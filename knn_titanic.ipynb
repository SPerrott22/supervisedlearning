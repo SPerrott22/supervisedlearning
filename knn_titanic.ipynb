{
  "nbformat": 4,
  "nbformat_minor": 0,
  "metadata": {
    "kernelspec": {
      "display_name": "Python 3",
      "language": "python",
      "name": "python3"
    },
    "language_info": {
      "codemirror_mode": {
        "name": "ipython",
        "version": 3
      },
      "file_extension": ".py",
      "mimetype": "text/x-python",
      "name": "python",
      "nbconvert_exporter": "python",
      "pygments_lexer": "ipython3",
      "version": "3.7.6"
    },
    "papermill": {
      "duration": 12.360802,
      "end_time": "2021-07-11T22:08:57.879878",
      "environment_variables": {},
      "exception": null,
      "input_path": "__notebook__.ipynb",
      "output_path": "__notebook__.ipynb",
      "parameters": {},
      "start_time": "2021-07-11T22:08:45.519076",
      "version": "2.1.0"
    },
    "colab": {
      "provenance": [],
      "collapsed_sections": [
        "VgGQ9bd9MxKp",
        "ClXdPWFyMxKq",
        "h0d3LzAmMxKu",
        "XBj5O6bqMxKu",
        "chUJUqMRMxKu"
      ]
    }
  },
  "cells": [
    {
      "cell_type": "code",
      "metadata": {
        "_cell_guid": "b1076dfc-b9ad-4769-8c92-a6c4dae69d19",
        "_uuid": "8f2839f25d086af736a60e9eeb907d3b93b6e0e5",
        "execution": {
          "iopub.execute_input": "2021-07-11T22:08:50.773293Z",
          "iopub.status.busy": "2021-07-11T22:08:50.772140Z",
          "iopub.status.idle": "2021-07-11T22:08:51.946936Z",
          "shell.execute_reply": "2021-07-11T22:08:51.946293Z",
          "shell.execute_reply.started": "2021-07-11T22:07:32.961453Z"
        },
        "papermill": {
          "duration": 1.221799,
          "end_time": "2021-07-11T22:08:51.947067",
          "exception": false,
          "start_time": "2021-07-11T22:08:50.725268",
          "status": "completed"
        },
        "tags": [],
        "id": "kL4uw3ujMxKl"
      },
      "source": [
        "import numpy as np\n",
        "import pandas as pd\n",
        "import matplotlib.pyplot as plt\n",
        "import seaborn as sns\n",
        "\n",
        "%matplotlib inline\n",
        "sns.set()"
      ],
      "execution_count": null,
      "outputs": []
    },
    {
      "cell_type": "code",
      "metadata": {
        "colab": {
          "base_uri": "https://localhost:8080/"
        },
        "id": "AJR9j3Sl8dd0",
        "outputId": "e09eeacf-8302-47fb-c317-873434042589"
      },
      "source": [
        "import os\n",
        "os.environ['KAGGLE_CONFIG_DIR'] = '/content'\n",
        "!kaggle competitions download -c titanic"
      ],
      "execution_count": null,
      "outputs": [
        {
          "output_type": "stream",
          "name": "stdout",
          "text": [
            "Traceback (most recent call last):\n",
            "  File \"/usr/local/bin/kaggle\", line 5, in <module>\n",
            "    from kaggle.cli import main\n",
            "  File \"/usr/local/lib/python2.7/dist-packages/kaggle/__init__.py\", line 23, in <module>\n",
            "    api.authenticate()\n",
            "  File \"/usr/local/lib/python2.7/dist-packages/kaggle/api/kaggle_api_extended.py\", line 146, in authenticate\n",
            "    self.config_file, self.config_dir))\n",
            "IOError: Could not find kaggle.json. Make sure it's located in /content. Or use the environment method.\n"
          ]
        }
      ]
    },
    {
      "cell_type": "markdown",
      "metadata": {
        "papermill": {
          "duration": 0.041545,
          "end_time": "2021-07-11T22:08:52.022757",
          "exception": false,
          "start_time": "2021-07-11T22:08:51.981212",
          "status": "completed"
        },
        "tags": [],
        "id": "x4YLLJ9UMxKn"
      },
      "source": [
        "## Read Data"
      ]
    },
    {
      "cell_type": "code",
      "metadata": {
        "_cell_guid": "79c7e3d0-c299-4dcb-8224-4455121ee9b0",
        "_uuid": "d629ff2d2480ee46fbb7e2d37f6b5fab8052498a",
        "execution": {
          "iopub.execute_input": "2021-07-11T22:08:52.102256Z",
          "iopub.status.busy": "2021-07-11T22:08:52.101526Z",
          "iopub.status.idle": "2021-07-11T22:08:52.128346Z",
          "shell.execute_reply": "2021-07-11T22:08:52.127676Z",
          "shell.execute_reply.started": "2021-07-11T22:07:32.972421Z"
        },
        "papermill": {
          "duration": 0.069879,
          "end_time": "2021-07-11T22:08:52.128473",
          "exception": false,
          "start_time": "2021-07-11T22:08:52.058594",
          "status": "completed"
        },
        "tags": [],
        "id": "GrGgMUN8MxKn",
        "colab": {
          "base_uri": "https://localhost:8080/",
          "height": 460
        },
        "outputId": "52c79fdf-0a30-4d66-d659-4cc83736b18f"
      },
      "source": [
        "train = pd.read_csv('train.csv')\n",
        "test = pd.read_csv('test.csv')"
      ],
      "execution_count": null,
      "outputs": [
        {
          "output_type": "error",
          "ename": "FileNotFoundError",
          "evalue": "ignored",
          "traceback": [
            "\u001b[0;31m---------------------------------------------------------------------------\u001b[0m",
            "\u001b[0;31mFileNotFoundError\u001b[0m                         Traceback (most recent call last)",
            "\u001b[0;32m<ipython-input-3-36fad3a7b363>\u001b[0m in \u001b[0;36m<module>\u001b[0;34m()\u001b[0m\n\u001b[0;32m----> 1\u001b[0;31m \u001b[0mtrain\u001b[0m \u001b[0;34m=\u001b[0m \u001b[0mpd\u001b[0m\u001b[0;34m.\u001b[0m\u001b[0mread_csv\u001b[0m\u001b[0;34m(\u001b[0m\u001b[0;34m'train.csv'\u001b[0m\u001b[0;34m)\u001b[0m\u001b[0;34m\u001b[0m\u001b[0;34m\u001b[0m\u001b[0m\n\u001b[0m\u001b[1;32m      2\u001b[0m \u001b[0mtest\u001b[0m \u001b[0;34m=\u001b[0m \u001b[0mpd\u001b[0m\u001b[0;34m.\u001b[0m\u001b[0mread_csv\u001b[0m\u001b[0;34m(\u001b[0m\u001b[0;34m'test.csv'\u001b[0m\u001b[0;34m)\u001b[0m\u001b[0;34m\u001b[0m\u001b[0;34m\u001b[0m\u001b[0m\n",
            "\u001b[0;32m/usr/local/lib/python3.7/dist-packages/pandas/io/parsers.py\u001b[0m in \u001b[0;36mread_csv\u001b[0;34m(filepath_or_buffer, sep, delimiter, header, names, index_col, usecols, squeeze, prefix, mangle_dupe_cols, dtype, engine, converters, true_values, false_values, skipinitialspace, skiprows, skipfooter, nrows, na_values, keep_default_na, na_filter, verbose, skip_blank_lines, parse_dates, infer_datetime_format, keep_date_col, date_parser, dayfirst, cache_dates, iterator, chunksize, compression, thousands, decimal, lineterminator, quotechar, quoting, doublequote, escapechar, comment, encoding, dialect, error_bad_lines, warn_bad_lines, delim_whitespace, low_memory, memory_map, float_precision)\u001b[0m\n\u001b[1;32m    686\u001b[0m     )\n\u001b[1;32m    687\u001b[0m \u001b[0;34m\u001b[0m\u001b[0m\n\u001b[0;32m--> 688\u001b[0;31m     \u001b[0;32mreturn\u001b[0m \u001b[0m_read\u001b[0m\u001b[0;34m(\u001b[0m\u001b[0mfilepath_or_buffer\u001b[0m\u001b[0;34m,\u001b[0m \u001b[0mkwds\u001b[0m\u001b[0;34m)\u001b[0m\u001b[0;34m\u001b[0m\u001b[0;34m\u001b[0m\u001b[0m\n\u001b[0m\u001b[1;32m    689\u001b[0m \u001b[0;34m\u001b[0m\u001b[0m\n\u001b[1;32m    690\u001b[0m \u001b[0;34m\u001b[0m\u001b[0m\n",
            "\u001b[0;32m/usr/local/lib/python3.7/dist-packages/pandas/io/parsers.py\u001b[0m in \u001b[0;36m_read\u001b[0;34m(filepath_or_buffer, kwds)\u001b[0m\n\u001b[1;32m    452\u001b[0m \u001b[0;34m\u001b[0m\u001b[0m\n\u001b[1;32m    453\u001b[0m     \u001b[0;31m# Create the parser.\u001b[0m\u001b[0;34m\u001b[0m\u001b[0;34m\u001b[0m\u001b[0;34m\u001b[0m\u001b[0m\n\u001b[0;32m--> 454\u001b[0;31m     \u001b[0mparser\u001b[0m \u001b[0;34m=\u001b[0m \u001b[0mTextFileReader\u001b[0m\u001b[0;34m(\u001b[0m\u001b[0mfp_or_buf\u001b[0m\u001b[0;34m,\u001b[0m \u001b[0;34m**\u001b[0m\u001b[0mkwds\u001b[0m\u001b[0;34m)\u001b[0m\u001b[0;34m\u001b[0m\u001b[0;34m\u001b[0m\u001b[0m\n\u001b[0m\u001b[1;32m    455\u001b[0m \u001b[0;34m\u001b[0m\u001b[0m\n\u001b[1;32m    456\u001b[0m     \u001b[0;32mif\u001b[0m \u001b[0mchunksize\u001b[0m \u001b[0;32mor\u001b[0m \u001b[0miterator\u001b[0m\u001b[0;34m:\u001b[0m\u001b[0;34m\u001b[0m\u001b[0;34m\u001b[0m\u001b[0m\n",
            "\u001b[0;32m/usr/local/lib/python3.7/dist-packages/pandas/io/parsers.py\u001b[0m in \u001b[0;36m__init__\u001b[0;34m(self, f, engine, **kwds)\u001b[0m\n\u001b[1;32m    946\u001b[0m             \u001b[0mself\u001b[0m\u001b[0;34m.\u001b[0m\u001b[0moptions\u001b[0m\u001b[0;34m[\u001b[0m\u001b[0;34m\"has_index_names\"\u001b[0m\u001b[0;34m]\u001b[0m \u001b[0;34m=\u001b[0m \u001b[0mkwds\u001b[0m\u001b[0;34m[\u001b[0m\u001b[0;34m\"has_index_names\"\u001b[0m\u001b[0;34m]\u001b[0m\u001b[0;34m\u001b[0m\u001b[0;34m\u001b[0m\u001b[0m\n\u001b[1;32m    947\u001b[0m \u001b[0;34m\u001b[0m\u001b[0m\n\u001b[0;32m--> 948\u001b[0;31m         \u001b[0mself\u001b[0m\u001b[0;34m.\u001b[0m\u001b[0m_make_engine\u001b[0m\u001b[0;34m(\u001b[0m\u001b[0mself\u001b[0m\u001b[0;34m.\u001b[0m\u001b[0mengine\u001b[0m\u001b[0;34m)\u001b[0m\u001b[0;34m\u001b[0m\u001b[0;34m\u001b[0m\u001b[0m\n\u001b[0m\u001b[1;32m    949\u001b[0m \u001b[0;34m\u001b[0m\u001b[0m\n\u001b[1;32m    950\u001b[0m     \u001b[0;32mdef\u001b[0m \u001b[0mclose\u001b[0m\u001b[0;34m(\u001b[0m\u001b[0mself\u001b[0m\u001b[0;34m)\u001b[0m\u001b[0;34m:\u001b[0m\u001b[0;34m\u001b[0m\u001b[0;34m\u001b[0m\u001b[0m\n",
            "\u001b[0;32m/usr/local/lib/python3.7/dist-packages/pandas/io/parsers.py\u001b[0m in \u001b[0;36m_make_engine\u001b[0;34m(self, engine)\u001b[0m\n\u001b[1;32m   1178\u001b[0m     \u001b[0;32mdef\u001b[0m \u001b[0m_make_engine\u001b[0m\u001b[0;34m(\u001b[0m\u001b[0mself\u001b[0m\u001b[0;34m,\u001b[0m \u001b[0mengine\u001b[0m\u001b[0;34m=\u001b[0m\u001b[0;34m\"c\"\u001b[0m\u001b[0;34m)\u001b[0m\u001b[0;34m:\u001b[0m\u001b[0;34m\u001b[0m\u001b[0;34m\u001b[0m\u001b[0m\n\u001b[1;32m   1179\u001b[0m         \u001b[0;32mif\u001b[0m \u001b[0mengine\u001b[0m \u001b[0;34m==\u001b[0m \u001b[0;34m\"c\"\u001b[0m\u001b[0;34m:\u001b[0m\u001b[0;34m\u001b[0m\u001b[0;34m\u001b[0m\u001b[0m\n\u001b[0;32m-> 1180\u001b[0;31m             \u001b[0mself\u001b[0m\u001b[0;34m.\u001b[0m\u001b[0m_engine\u001b[0m \u001b[0;34m=\u001b[0m \u001b[0mCParserWrapper\u001b[0m\u001b[0;34m(\u001b[0m\u001b[0mself\u001b[0m\u001b[0;34m.\u001b[0m\u001b[0mf\u001b[0m\u001b[0;34m,\u001b[0m \u001b[0;34m**\u001b[0m\u001b[0mself\u001b[0m\u001b[0;34m.\u001b[0m\u001b[0moptions\u001b[0m\u001b[0;34m)\u001b[0m\u001b[0;34m\u001b[0m\u001b[0;34m\u001b[0m\u001b[0m\n\u001b[0m\u001b[1;32m   1181\u001b[0m         \u001b[0;32melse\u001b[0m\u001b[0;34m:\u001b[0m\u001b[0;34m\u001b[0m\u001b[0;34m\u001b[0m\u001b[0m\n\u001b[1;32m   1182\u001b[0m             \u001b[0;32mif\u001b[0m \u001b[0mengine\u001b[0m \u001b[0;34m==\u001b[0m \u001b[0;34m\"python\"\u001b[0m\u001b[0;34m:\u001b[0m\u001b[0;34m\u001b[0m\u001b[0;34m\u001b[0m\u001b[0m\n",
            "\u001b[0;32m/usr/local/lib/python3.7/dist-packages/pandas/io/parsers.py\u001b[0m in \u001b[0;36m__init__\u001b[0;34m(self, src, **kwds)\u001b[0m\n\u001b[1;32m   2008\u001b[0m         \u001b[0mkwds\u001b[0m\u001b[0;34m[\u001b[0m\u001b[0;34m\"usecols\"\u001b[0m\u001b[0;34m]\u001b[0m \u001b[0;34m=\u001b[0m \u001b[0mself\u001b[0m\u001b[0;34m.\u001b[0m\u001b[0musecols\u001b[0m\u001b[0;34m\u001b[0m\u001b[0;34m\u001b[0m\u001b[0m\n\u001b[1;32m   2009\u001b[0m \u001b[0;34m\u001b[0m\u001b[0m\n\u001b[0;32m-> 2010\u001b[0;31m         \u001b[0mself\u001b[0m\u001b[0;34m.\u001b[0m\u001b[0m_reader\u001b[0m \u001b[0;34m=\u001b[0m \u001b[0mparsers\u001b[0m\u001b[0;34m.\u001b[0m\u001b[0mTextReader\u001b[0m\u001b[0;34m(\u001b[0m\u001b[0msrc\u001b[0m\u001b[0;34m,\u001b[0m \u001b[0;34m**\u001b[0m\u001b[0mkwds\u001b[0m\u001b[0;34m)\u001b[0m\u001b[0;34m\u001b[0m\u001b[0;34m\u001b[0m\u001b[0m\n\u001b[0m\u001b[1;32m   2011\u001b[0m         \u001b[0mself\u001b[0m\u001b[0;34m.\u001b[0m\u001b[0munnamed_cols\u001b[0m \u001b[0;34m=\u001b[0m \u001b[0mself\u001b[0m\u001b[0;34m.\u001b[0m\u001b[0m_reader\u001b[0m\u001b[0;34m.\u001b[0m\u001b[0munnamed_cols\u001b[0m\u001b[0;34m\u001b[0m\u001b[0;34m\u001b[0m\u001b[0m\n\u001b[1;32m   2012\u001b[0m \u001b[0;34m\u001b[0m\u001b[0m\n",
            "\u001b[0;32mpandas/_libs/parsers.pyx\u001b[0m in \u001b[0;36mpandas._libs.parsers.TextReader.__cinit__\u001b[0;34m()\u001b[0m\n",
            "\u001b[0;32mpandas/_libs/parsers.pyx\u001b[0m in \u001b[0;36mpandas._libs.parsers.TextReader._setup_parser_source\u001b[0;34m()\u001b[0m\n",
            "\u001b[0;31mFileNotFoundError\u001b[0m: [Errno 2] No such file or directory: 'train.csv'"
          ]
        }
      ]
    },
    {
      "cell_type": "code",
      "metadata": {
        "id": "4azDDuX3BR3D"
      },
      "source": [
        "from google.colab import drive\n",
        "drive.mount('/content/drive')"
      ],
      "execution_count": null,
      "outputs": []
    },
    {
      "cell_type": "code",
      "metadata": {
        "execution": {
          "iopub.execute_input": "2021-07-11T22:08:52.206006Z",
          "iopub.status.busy": "2021-07-11T22:08:52.204944Z",
          "iopub.status.idle": "2021-07-11T22:08:52.235433Z",
          "shell.execute_reply": "2021-07-11T22:08:52.234578Z",
          "shell.execute_reply.started": "2021-07-11T22:07:33.005900Z"
        },
        "papermill": {
          "duration": 0.073699,
          "end_time": "2021-07-11T22:08:52.235619",
          "exception": false,
          "start_time": "2021-07-11T22:08:52.161920",
          "status": "completed"
        },
        "tags": [],
        "id": "Tf4as73SMxKo"
      },
      "source": [
        "train.head()"
      ],
      "execution_count": null,
      "outputs": []
    },
    {
      "cell_type": "code",
      "metadata": {
        "execution": {
          "iopub.execute_input": "2021-07-11T22:08:52.327273Z",
          "iopub.status.busy": "2021-07-11T22:08:52.326565Z",
          "iopub.status.idle": "2021-07-11T22:08:52.330321Z",
          "shell.execute_reply": "2021-07-11T22:08:52.330930Z",
          "shell.execute_reply.started": "2021-07-11T22:07:33.025729Z"
        },
        "papermill": {
          "duration": 0.055295,
          "end_time": "2021-07-11T22:08:52.331092",
          "exception": false,
          "start_time": "2021-07-11T22:08:52.275797",
          "status": "completed"
        },
        "tags": [],
        "id": "5B4E6K_vMxKo"
      },
      "source": [
        "test.head()"
      ],
      "execution_count": null,
      "outputs": []
    },
    {
      "cell_type": "markdown",
      "metadata": {
        "_kg_hide-input": true,
        "papermill": {
          "duration": 0.032323,
          "end_time": "2021-07-11T22:08:52.395980",
          "exception": false,
          "start_time": "2021-07-11T22:08:52.363657",
          "status": "completed"
        },
        "tags": [],
        "id": "VgGQ9bd9MxKp"
      },
      "source": [
        "## Visualize Data"
      ]
    },
    {
      "cell_type": "code",
      "metadata": {
        "_kg_hide-input": true,
        "execution": {
          "iopub.execute_input": "2021-07-11T22:08:52.475385Z",
          "iopub.status.busy": "2021-07-11T22:08:52.474317Z",
          "iopub.status.idle": "2021-07-11T22:08:52.480215Z",
          "shell.execute_reply": "2021-07-11T22:08:52.479245Z",
          "shell.execute_reply.started": "2021-07-11T22:07:33.047824Z"
        },
        "papermill": {
          "duration": 0.04845,
          "end_time": "2021-07-11T22:08:52.480393",
          "exception": false,
          "start_time": "2021-07-11T22:08:52.431943",
          "status": "completed"
        },
        "tags": [],
        "id": "uQ83wjvbMxKp"
      },
      "source": [
        "#sns.countplot(x='Survived',data=train)\n",
        "#sns.countplot(x='Survived',hue='Sex',data=train)\n",
        "#sns.countplot(x='Survived',hue=\"Pclass\",data=train)\n",
        "#sns.distplot(train['Age'].dropna(),kde=False,bins=30)\n",
        "#train.info()\n",
        "#sns.countplot(x='SibSp',data=train)\n",
        "#train['Fare'].hist(bins=40,figsize=(10,4))"
      ],
      "execution_count": null,
      "outputs": []
    },
    {
      "cell_type": "markdown",
      "metadata": {
        "_kg_hide-input": true,
        "papermill": {
          "duration": 0.035045,
          "end_time": "2021-07-11T22:08:52.553156",
          "exception": false,
          "start_time": "2021-07-11T22:08:52.518111",
          "status": "completed"
        },
        "tags": [],
        "id": "ClXdPWFyMxKq"
      },
      "source": [
        "## Feature Engineering"
      ]
    },
    {
      "cell_type": "code",
      "metadata": {
        "_kg_hide-input": true,
        "execution": {
          "iopub.execute_input": "2021-07-11T22:08:52.623003Z",
          "iopub.status.busy": "2021-07-11T22:08:52.622333Z",
          "iopub.status.idle": "2021-07-11T22:08:52.626280Z",
          "shell.execute_reply": "2021-07-11T22:08:52.625511Z",
          "shell.execute_reply.started": "2021-07-11T22:07:33.058560Z"
        },
        "papermill": {
          "duration": 0.041002,
          "end_time": "2021-07-11T22:08:52.626399",
          "exception": false,
          "start_time": "2021-07-11T22:08:52.585397",
          "status": "completed"
        },
        "tags": [],
        "id": "gYSgy2R2MxKq"
      },
      "source": [
        "dfs = [train, test]\n",
        "#sns.heatmap(train.isnull(),yticklabels=False,cbar=False,cmap='viridis')\n",
        "#sns.heatmap(test.isnull(),yticklabels=False,cbar=False,cmap='viridis')"
      ],
      "execution_count": null,
      "outputs": []
    },
    {
      "cell_type": "markdown",
      "metadata": {
        "_kg_hide-input": true,
        "papermill": {
          "duration": 0.031944,
          "end_time": "2021-07-11T22:08:52.691443",
          "exception": false,
          "start_time": "2021-07-11T22:08:52.659499",
          "status": "completed"
        },
        "tags": [],
        "id": "RrgSFPuBMxKq"
      },
      "source": [
        "Fare"
      ]
    },
    {
      "cell_type": "code",
      "metadata": {
        "_kg_hide-input": true,
        "execution": {
          "iopub.execute_input": "2021-07-11T22:08:52.765579Z",
          "iopub.status.busy": "2021-07-11T22:08:52.764917Z",
          "iopub.status.idle": "2021-07-11T22:08:52.789774Z",
          "shell.execute_reply": "2021-07-11T22:08:52.788576Z",
          "shell.execute_reply.started": "2021-07-11T22:07:33.069901Z"
        },
        "papermill": {
          "duration": 0.066037,
          "end_time": "2021-07-11T22:08:52.789920",
          "exception": false,
          "start_time": "2021-07-11T22:08:52.723883",
          "status": "completed"
        },
        "tags": [],
        "id": "n5yq-tNXMxKr"
      },
      "source": [
        "test[pd.isnull(test['Fare'])]\n",
        "fare_fill = test[test['Pclass']==3]['Fare'].mean() # Mean of Fare values when Pclass = 3\n",
        "test['Fare'].fillna(fare_fill, inplace=True)"
      ],
      "execution_count": null,
      "outputs": []
    },
    {
      "cell_type": "markdown",
      "metadata": {
        "_kg_hide-input": true,
        "papermill": {
          "duration": 0.031848,
          "end_time": "2021-07-11T22:08:52.854299",
          "exception": false,
          "start_time": "2021-07-11T22:08:52.822451",
          "status": "completed"
        },
        "tags": [],
        "id": "cq9tLvrwMxKr"
      },
      "source": [
        "Age"
      ]
    },
    {
      "cell_type": "code",
      "metadata": {
        "_kg_hide-input": true,
        "execution": {
          "iopub.execute_input": "2021-07-11T22:08:52.931400Z",
          "iopub.status.busy": "2021-07-11T22:08:52.930650Z",
          "iopub.status.idle": "2021-07-11T22:08:53.152139Z",
          "shell.execute_reply": "2021-07-11T22:08:53.151504Z",
          "shell.execute_reply.started": "2021-07-11T22:07:33.088123Z"
        },
        "papermill": {
          "duration": 0.264049,
          "end_time": "2021-07-11T22:08:53.152279",
          "exception": false,
          "start_time": "2021-07-11T22:08:52.888230",
          "status": "completed"
        },
        "tags": [],
        "id": "MCFTszgaMxKr"
      },
      "source": [
        "#sns.boxplot(x='Pclass',y='Age',data=train)\n",
        "for df in dfs:\n",
        "    def impute_age(col): # Use Pclass to fill null age values\n",
        "        age = col[0]\n",
        "        pclass = col[1]\n",
        "\n",
        "        if (pd.isnull(age)):\n",
        "            return df[df['Pclass']==pclass]['Age'].median()\n",
        "        return age\n",
        "\n",
        "    df['Age'] = df[['Age', 'Pclass']].apply(impute_age, axis=1)"
      ],
      "execution_count": null,
      "outputs": []
    },
    {
      "cell_type": "markdown",
      "metadata": {
        "_kg_hide-input": true,
        "papermill": {
          "duration": 0.032391,
          "end_time": "2021-07-11T22:08:53.217015",
          "exception": false,
          "start_time": "2021-07-11T22:08:53.184624",
          "status": "completed"
        },
        "tags": [],
        "id": "KK9z8klRMxKr"
      },
      "source": [
        "Encoding (Sex, Embarked, Cabin)\n",
        "\n",
        "Note: this can't be done using a for loop since we're changing the variable reference"
      ]
    },
    {
      "cell_type": "code",
      "metadata": {
        "_kg_hide-input": true,
        "execution": {
          "iopub.execute_input": "2021-07-11T22:08:53.298649Z",
          "iopub.status.busy": "2021-07-11T22:08:53.294735Z",
          "iopub.status.idle": "2021-07-11T22:08:53.317210Z",
          "shell.execute_reply": "2021-07-11T22:08:53.316442Z",
          "shell.execute_reply.started": "2021-07-11T22:07:33.297426Z"
        },
        "papermill": {
          "duration": 0.068111,
          "end_time": "2021-07-11T22:08:53.317350",
          "exception": false,
          "start_time": "2021-07-11T22:08:53.249239",
          "status": "completed"
        },
        "tags": [],
        "id": "yP-FOAoxMxKs"
      },
      "source": [
        "for df in dfs:\n",
        "    df['Cabin_letter'] = df['Cabin'].dropna().apply(lambda x : x[0])\n",
        "#train['Cabin_letter'].value_counts()\n",
        "#test['Cabin_letter'].value_counts()\n",
        "sex = pd.get_dummies(train['Sex'],drop_first=True)\n",
        "embark = pd.get_dummies(train['Embarked'],drop_first=True, prefix='Emb')\n",
        "cabin = pd.get_dummies(train['Cabin_letter'],prefix='Cabin')\n",
        "train = pd.concat([train,sex,embark,cabin],axis=1)\n",
        "sex = pd.get_dummies(test['Sex'],drop_first=True)\n",
        "embark = pd.get_dummies(test['Embarked'],drop_first=True, prefix='Emb')\n",
        "cabin = pd.get_dummies(test['Cabin_letter'],prefix='Cabin')\n",
        "test = pd.concat([test,sex,embark,cabin],axis=1)\n",
        "test['Cabin_T'] = 0 # Makes sure train and test have same # of columns"
      ],
      "execution_count": null,
      "outputs": []
    },
    {
      "cell_type": "markdown",
      "metadata": {
        "_kg_hide-input": true,
        "papermill": {
          "duration": 0.032106,
          "end_time": "2021-07-11T22:08:53.382619",
          "exception": false,
          "start_time": "2021-07-11T22:08:53.350513",
          "status": "completed"
        },
        "tags": [],
        "id": "FEMHqzhFMxKs"
      },
      "source": [
        "Name\n",
        "\n",
        "Note: also can't be done using a for loop bc adding a column doesn't update in the original reference for some reason"
      ]
    },
    {
      "cell_type": "code",
      "metadata": {
        "_kg_hide-input": true,
        "execution": {
          "iopub.execute_input": "2021-07-11T22:08:53.464951Z",
          "iopub.status.busy": "2021-07-11T22:08:53.464237Z",
          "iopub.status.idle": "2021-07-11T22:08:53.468022Z",
          "shell.execute_reply": "2021-07-11T22:08:53.467492Z",
          "shell.execute_reply.started": "2021-07-11T22:07:33.322611Z"
        },
        "papermill": {
          "duration": 0.053531,
          "end_time": "2021-07-11T22:08:53.468143",
          "exception": false,
          "start_time": "2021-07-11T22:08:53.414612",
          "status": "completed"
        },
        "tags": [],
        "id": "jizCV6D9MxKs"
      },
      "source": [
        "def get_title(x):\n",
        "    for i in x.split():\n",
        "        if i[-1] == '.':\n",
        "            return i[:-1]\n",
        "\n",
        "#train['Name'].apply(get_title).value_counts()\n",
        "#test['Name'].apply(get_title).value_counts()\n",
        "title_map = {\n",
        "    'Mr': 0, 'Miss': 0, 'Mrs': 0, 'Ms': 0, 'Mme': 0, 'Mlle': 0,\n",
        "    'Lady': 1, 'Sir': 1, 'Dr': 1, 'Rev': 1, 'Don': 1, 'Dona': 1, 'Countess': 1,\n",
        "    'Jonkheer': 1, 'Capt': 1, 'Col': 1, 'Major': 1, 'Master': 1,\n",
        "}\n",
        "\n",
        "train['Rank'] = train['Name'].apply(get_title).map(title_map)\n",
        "test['Rank'] = test['Name'].apply(get_title).map(title_map)"
      ],
      "execution_count": null,
      "outputs": []
    },
    {
      "cell_type": "markdown",
      "metadata": {
        "papermill": {
          "duration": 0.031953,
          "end_time": "2021-07-11T22:08:53.532626",
          "exception": false,
          "start_time": "2021-07-11T22:08:53.500673",
          "status": "completed"
        },
        "tags": [],
        "id": "2M1iD4iHMxKs"
      },
      "source": [
        "Remove extra columns"
      ]
    },
    {
      "cell_type": "code",
      "metadata": {
        "_kg_hide-input": true,
        "execution": {
          "iopub.execute_input": "2021-07-11T22:08:53.605439Z",
          "iopub.status.busy": "2021-07-11T22:08:53.604678Z",
          "iopub.status.idle": "2021-07-11T22:08:53.613203Z",
          "shell.execute_reply": "2021-07-11T22:08:53.612641Z",
          "shell.execute_reply.started": "2021-07-11T22:07:33.335540Z"
        },
        "papermill": {
          "duration": 0.047623,
          "end_time": "2021-07-11T22:08:53.613332",
          "exception": false,
          "start_time": "2021-07-11T22:08:53.565709",
          "status": "completed"
        },
        "tags": [],
        "id": "7kmAFeF4MxKs"
      },
      "source": [
        "#train.columns\n",
        "train.drop(['PassengerId', 'Name', 'Sex', 'Ticket', 'Cabin', 'Embarked', 'Cabin_letter'], axis=1, inplace=True)\n",
        "#train.head()\n",
        "test.drop(['Name', 'Sex', 'Ticket', 'Cabin', 'Embarked', 'Cabin_letter'], axis=1, inplace=True)\n",
        "#test.head()\n",
        "#sns.heatmap(train.isnull(),yticklabels=False,cbar=False,cmap='viridis')\n",
        "#sns.heatmap(test.isnull(),yticklabels=False,cbar=False,cmap='viridis')"
      ],
      "execution_count": null,
      "outputs": []
    },
    {
      "cell_type": "code",
      "metadata": {
        "execution": {
          "iopub.execute_input": "2021-07-11T22:08:53.685242Z",
          "iopub.status.busy": "2021-07-11T22:08:53.684509Z",
          "iopub.status.idle": "2021-07-11T22:08:53.688633Z",
          "shell.execute_reply": "2021-07-11T22:08:53.688027Z",
          "shell.execute_reply.started": "2021-07-11T22:07:33.349430Z"
        },
        "papermill": {
          "duration": 0.042769,
          "end_time": "2021-07-11T22:08:53.688758",
          "exception": false,
          "start_time": "2021-07-11T22:08:53.645989",
          "status": "completed"
        },
        "tags": [],
        "id": "bdxoC5DEMxKt"
      },
      "source": [
        "train.columns[1:]"
      ],
      "execution_count": null,
      "outputs": []
    },
    {
      "cell_type": "markdown",
      "metadata": {
        "papermill": {
          "duration": 0.033137,
          "end_time": "2021-07-11T22:08:53.755291",
          "exception": false,
          "start_time": "2021-07-11T22:08:53.722154",
          "status": "completed"
        },
        "tags": [],
        "id": "cELzoz2mMxKt"
      },
      "source": [
        "## KNN Model"
      ]
    },
    {
      "cell_type": "markdown",
      "metadata": {
        "papermill": {
          "duration": 0.033747,
          "end_time": "2021-07-11T22:08:53.823119",
          "exception": false,
          "start_time": "2021-07-11T22:08:53.789372",
          "status": "completed"
        },
        "tags": [],
        "id": "rVlnM5TrMxKt"
      },
      "source": [
        "### Standardizing Variables"
      ]
    },
    {
      "cell_type": "code",
      "metadata": {
        "execution": {
          "iopub.execute_input": "2021-07-11T22:08:53.897458Z",
          "iopub.status.busy": "2021-07-11T22:08:53.896658Z",
          "iopub.status.idle": "2021-07-11T22:08:53.964541Z",
          "shell.execute_reply": "2021-07-11T22:08:53.965125Z",
          "shell.execute_reply.started": "2021-07-11T22:07:33.363821Z"
        },
        "papermill": {
          "duration": 0.109001,
          "end_time": "2021-07-11T22:08:53.965309",
          "exception": false,
          "start_time": "2021-07-11T22:08:53.856308",
          "status": "completed"
        },
        "tags": [],
        "id": "1XUs-NgMMxKt"
      },
      "source": [
        "from sklearn.preprocessing import StandardScaler"
      ],
      "execution_count": null,
      "outputs": []
    },
    {
      "cell_type": "code",
      "metadata": {
        "execution": {
          "iopub.execute_input": "2021-07-11T22:08:54.045941Z",
          "iopub.status.busy": "2021-07-11T22:08:54.044796Z",
          "iopub.status.idle": "2021-07-11T22:08:54.049723Z",
          "shell.execute_reply": "2021-07-11T22:08:54.049058Z",
          "shell.execute_reply.started": "2021-07-11T22:07:33.375626Z"
        },
        "papermill": {
          "duration": 0.046644,
          "end_time": "2021-07-11T22:08:54.049868",
          "exception": false,
          "start_time": "2021-07-11T22:08:54.003224",
          "status": "completed"
        },
        "tags": [],
        "id": "6wq_qSm-MxKt"
      },
      "source": [
        "scaler = StandardScaler()"
      ],
      "execution_count": null,
      "outputs": []
    },
    {
      "cell_type": "code",
      "metadata": {
        "execution": {
          "iopub.execute_input": "2021-07-11T22:08:54.133963Z",
          "iopub.status.busy": "2021-07-11T22:08:54.131271Z",
          "iopub.status.idle": "2021-07-11T22:08:54.143768Z",
          "shell.execute_reply": "2021-07-11T22:08:54.143084Z",
          "shell.execute_reply.started": "2021-07-11T22:07:33.387254Z"
        },
        "papermill": {
          "duration": 0.057271,
          "end_time": "2021-07-11T22:08:54.143914",
          "exception": false,
          "start_time": "2021-07-11T22:08:54.086643",
          "status": "completed"
        },
        "tags": [],
        "id": "yfVCVgmzMxKt"
      },
      "source": [
        "scaler.fit(train.drop('Survived',axis=1))"
      ],
      "execution_count": null,
      "outputs": []
    },
    {
      "cell_type": "code",
      "metadata": {
        "execution": {
          "iopub.execute_input": "2021-07-11T22:08:54.220111Z",
          "iopub.status.busy": "2021-07-11T22:08:54.219370Z",
          "iopub.status.idle": "2021-07-11T22:08:54.223077Z",
          "shell.execute_reply": "2021-07-11T22:08:54.222378Z",
          "shell.execute_reply.started": "2021-07-11T22:07:33.407032Z"
        },
        "papermill": {
          "duration": 0.04536,
          "end_time": "2021-07-11T22:08:54.223208",
          "exception": false,
          "start_time": "2021-07-11T22:08:54.177848",
          "status": "completed"
        },
        "tags": [],
        "id": "k4hIPMd_MxKt"
      },
      "source": [
        "scaled_features = scaler.transform(train.drop('Survived',axis=1))"
      ],
      "execution_count": null,
      "outputs": []
    },
    {
      "cell_type": "code",
      "metadata": {
        "execution": {
          "iopub.execute_input": "2021-07-11T22:08:54.313409Z",
          "iopub.status.busy": "2021-07-11T22:08:54.312684Z",
          "iopub.status.idle": "2021-07-11T22:08:54.318276Z",
          "shell.execute_reply": "2021-07-11T22:08:54.317530Z",
          "shell.execute_reply.started": "2021-07-11T22:07:33.417398Z"
        },
        "papermill": {
          "duration": 0.061554,
          "end_time": "2021-07-11T22:08:54.318411",
          "exception": false,
          "start_time": "2021-07-11T22:08:54.256857",
          "status": "completed"
        },
        "tags": [],
        "id": "3dy27m-yMxKt"
      },
      "source": [
        "df_feat = pd.DataFrame(scaled_features,columns=train.columns[1:])\n",
        "df_feat.head()"
      ],
      "execution_count": null,
      "outputs": []
    },
    {
      "cell_type": "markdown",
      "metadata": {
        "papermill": {
          "duration": 0.033837,
          "end_time": "2021-07-11T22:08:54.386726",
          "exception": false,
          "start_time": "2021-07-11T22:08:54.352889",
          "status": "completed"
        },
        "tags": [],
        "id": "h0d3LzAmMxKu"
      },
      "source": [
        "### Train Test Split"
      ]
    },
    {
      "cell_type": "code",
      "metadata": {
        "execution": {
          "iopub.execute_input": "2021-07-11T22:08:54.459875Z",
          "iopub.status.busy": "2021-07-11T22:08:54.459123Z",
          "iopub.status.idle": "2021-07-11T22:08:54.524321Z",
          "shell.execute_reply": "2021-07-11T22:08:54.523341Z",
          "shell.execute_reply.started": "2021-07-11T22:07:33.443216Z"
        },
        "papermill": {
          "duration": 0.103891,
          "end_time": "2021-07-11T22:08:54.524480",
          "exception": false,
          "start_time": "2021-07-11T22:08:54.420589",
          "status": "completed"
        },
        "tags": [],
        "id": "DOjxt4sjMxKu"
      },
      "source": [
        "from sklearn.model_selection import train_test_split"
      ],
      "execution_count": null,
      "outputs": []
    },
    {
      "cell_type": "code",
      "metadata": {
        "execution": {
          "iopub.execute_input": "2021-07-11T22:08:54.601227Z",
          "iopub.status.busy": "2021-07-11T22:08:54.600431Z",
          "iopub.status.idle": "2021-07-11T22:08:54.604849Z",
          "shell.execute_reply": "2021-07-11T22:08:54.604313Z",
          "shell.execute_reply.started": "2021-07-11T22:07:33.453890Z"
        },
        "papermill": {
          "duration": 0.045249,
          "end_time": "2021-07-11T22:08:54.604986",
          "exception": false,
          "start_time": "2021-07-11T22:08:54.559737",
          "status": "completed"
        },
        "tags": [],
        "id": "Y4lpa24pMxKu"
      },
      "source": [
        "X_train, X_test, y_train, y_test = train_test_split(scaled_features, train['Survived'], test_size=0.3)"
      ],
      "execution_count": null,
      "outputs": []
    },
    {
      "cell_type": "markdown",
      "metadata": {
        "papermill": {
          "duration": 0.033639,
          "end_time": "2021-07-11T22:08:54.672440",
          "exception": false,
          "start_time": "2021-07-11T22:08:54.638801",
          "status": "completed"
        },
        "tags": [],
        "id": "XBj5O6bqMxKu"
      },
      "source": [
        "### KNN"
      ]
    },
    {
      "cell_type": "code",
      "metadata": {
        "execution": {
          "iopub.execute_input": "2021-07-11T22:08:54.746651Z",
          "iopub.status.busy": "2021-07-11T22:08:54.745748Z",
          "iopub.status.idle": "2021-07-11T22:08:54.900863Z",
          "shell.execute_reply": "2021-07-11T22:08:54.899303Z",
          "shell.execute_reply.started": "2021-07-11T22:07:33.466403Z"
        },
        "papermill": {
          "duration": 0.194328,
          "end_time": "2021-07-11T22:08:54.901041",
          "exception": false,
          "start_time": "2021-07-11T22:08:54.706713",
          "status": "completed"
        },
        "tags": [],
        "id": "3hPp27WFMxKu"
      },
      "source": [
        "from sklearn.neighbors import KNeighborsClassifier"
      ],
      "execution_count": null,
      "outputs": []
    },
    {
      "cell_type": "code",
      "metadata": {
        "execution": {
          "iopub.execute_input": "2021-07-11T22:08:54.977120Z",
          "iopub.status.busy": "2021-07-11T22:08:54.976302Z",
          "iopub.status.idle": "2021-07-11T22:08:54.979673Z",
          "shell.execute_reply": "2021-07-11T22:08:54.979006Z",
          "shell.execute_reply.started": "2021-07-11T22:07:33.477495Z"
        },
        "papermill": {
          "duration": 0.043425,
          "end_time": "2021-07-11T22:08:54.979804",
          "exception": false,
          "start_time": "2021-07-11T22:08:54.936379",
          "status": "completed"
        },
        "tags": [],
        "id": "oc0ujZv8MxKu"
      },
      "source": [
        "knn = KNeighborsClassifier(n_neighbors=1)"
      ],
      "execution_count": null,
      "outputs": []
    },
    {
      "cell_type": "code",
      "metadata": {
        "execution": {
          "iopub.execute_input": "2021-07-11T22:08:55.055372Z",
          "iopub.status.busy": "2021-07-11T22:08:55.054624Z",
          "iopub.status.idle": "2021-07-11T22:08:55.063851Z",
          "shell.execute_reply": "2021-07-11T22:08:55.064336Z",
          "shell.execute_reply.started": "2021-07-11T22:07:33.488811Z"
        },
        "papermill": {
          "duration": 0.049727,
          "end_time": "2021-07-11T22:08:55.064509",
          "exception": false,
          "start_time": "2021-07-11T22:08:55.014782",
          "status": "completed"
        },
        "tags": [],
        "id": "PULwe2aeMxKu"
      },
      "source": [
        "knn.fit(X_train,y_train)"
      ],
      "execution_count": null,
      "outputs": []
    },
    {
      "cell_type": "code",
      "metadata": {
        "execution": {
          "iopub.execute_input": "2021-07-11T22:08:55.140299Z",
          "iopub.status.busy": "2021-07-11T22:08:55.139574Z",
          "iopub.status.idle": "2021-07-11T22:08:55.157440Z",
          "shell.execute_reply": "2021-07-11T22:08:55.156849Z",
          "shell.execute_reply.started": "2021-07-11T22:07:33.502868Z"
        },
        "papermill": {
          "duration": 0.05812,
          "end_time": "2021-07-11T22:08:55.157560",
          "exception": false,
          "start_time": "2021-07-11T22:08:55.099440",
          "status": "completed"
        },
        "tags": [],
        "id": "8TTlOkS_MxKu"
      },
      "source": [
        "pred = knn.predict(X_test)"
      ],
      "execution_count": null,
      "outputs": []
    },
    {
      "cell_type": "markdown",
      "metadata": {
        "papermill": {
          "duration": 0.033856,
          "end_time": "2021-07-11T22:08:55.226768",
          "exception": false,
          "start_time": "2021-07-11T22:08:55.192912",
          "status": "completed"
        },
        "tags": [],
        "id": "chUJUqMRMxKu"
      },
      "source": [
        "### Evaluate KNN Model"
      ]
    },
    {
      "cell_type": "code",
      "metadata": {
        "execution": {
          "iopub.execute_input": "2021-07-11T22:08:55.300706Z",
          "iopub.status.busy": "2021-07-11T22:08:55.300035Z",
          "iopub.status.idle": "2021-07-11T22:08:55.304158Z",
          "shell.execute_reply": "2021-07-11T22:08:55.303601Z",
          "shell.execute_reply.started": "2021-07-11T22:07:33.525460Z"
        },
        "papermill": {
          "duration": 0.043663,
          "end_time": "2021-07-11T22:08:55.304274",
          "exception": false,
          "start_time": "2021-07-11T22:08:55.260611",
          "status": "completed"
        },
        "tags": [],
        "id": "S4IDkC5CMxKv"
      },
      "source": [
        "from sklearn.metrics import classification_report,confusion_matrix"
      ],
      "execution_count": null,
      "outputs": []
    },
    {
      "cell_type": "code",
      "metadata": {
        "execution": {
          "iopub.execute_input": "2021-07-11T22:08:55.378151Z",
          "iopub.status.busy": "2021-07-11T22:08:55.377449Z",
          "iopub.status.idle": "2021-07-11T22:08:55.392552Z",
          "shell.execute_reply": "2021-07-11T22:08:55.392029Z",
          "shell.execute_reply.started": "2021-07-11T22:07:33.530958Z"
        },
        "papermill": {
          "duration": 0.054494,
          "end_time": "2021-07-11T22:08:55.392671",
          "exception": false,
          "start_time": "2021-07-11T22:08:55.338177",
          "status": "completed"
        },
        "tags": [],
        "id": "KRRLYuy_MxKv"
      },
      "source": [
        "print(confusion_matrix(y_test,pred))\n",
        "print(classification_report(y_test,pred))"
      ],
      "execution_count": null,
      "outputs": []
    },
    {
      "cell_type": "markdown",
      "metadata": {
        "papermill": {
          "duration": 0.034051,
          "end_time": "2021-07-11T22:08:55.461003",
          "exception": false,
          "start_time": "2021-07-11T22:08:55.426952",
          "status": "completed"
        },
        "tags": [],
        "id": "HRAVy2ulMxKv"
      },
      "source": [
        "### Choosing K"
      ]
    },
    {
      "cell_type": "code",
      "metadata": {
        "execution": {
          "iopub.execute_input": "2021-07-11T22:08:55.533174Z",
          "iopub.status.busy": "2021-07-11T22:08:55.532429Z",
          "iopub.status.idle": "2021-07-11T22:08:56.288670Z",
          "shell.execute_reply": "2021-07-11T22:08:56.289203Z",
          "shell.execute_reply.started": "2021-07-11T22:07:33.548924Z"
        },
        "papermill": {
          "duration": 0.794221,
          "end_time": "2021-07-11T22:08:56.289406",
          "exception": false,
          "start_time": "2021-07-11T22:08:55.495185",
          "status": "completed"
        },
        "tags": [],
        "id": "rit05InsMxKv"
      },
      "source": [
        "error_rate = []\n",
        "\n",
        "for i in range(1,40):\n",
        "\n",
        "    knn = KNeighborsClassifier(n_neighbors=i)\n",
        "    knn.fit(X_train,y_train)\n",
        "    pred_i = knn.predict(X_test)\n",
        "    error_rate.append(np.mean(pred_i != y_test))"
      ],
      "execution_count": null,
      "outputs": []
    },
    {
      "cell_type": "code",
      "metadata": {
        "execution": {
          "iopub.execute_input": "2021-07-11T22:08:56.369774Z",
          "iopub.status.busy": "2021-07-11T22:08:56.369110Z",
          "iopub.status.idle": "2021-07-11T22:08:56.747232Z",
          "shell.execute_reply": "2021-07-11T22:08:56.746502Z",
          "shell.execute_reply.started": "2021-07-11T22:07:34.206077Z"
        },
        "papermill": {
          "duration": 0.4228,
          "end_time": "2021-07-11T22:08:56.747376",
          "exception": false,
          "start_time": "2021-07-11T22:08:56.324576",
          "status": "completed"
        },
        "tags": [],
        "id": "Talb1vu5MxKv"
      },
      "source": [
        "plt.figure(figsize=(10,6))\n",
        "plt.plot(range(1,40),error_rate,color='blue', linestyle='dashed', marker='o',\n",
        "         markerfacecolor='red', markersize=10)\n",
        "plt.title('Error Rate vs. K Value')\n",
        "plt.xlabel('K')\n",
        "plt.ylabel('Error Rate')"
      ],
      "execution_count": null,
      "outputs": []
    },
    {
      "cell_type": "code",
      "metadata": {
        "execution": {
          "iopub.execute_input": "2021-07-11T22:08:56.831455Z",
          "iopub.status.busy": "2021-07-11T22:08:56.829201Z",
          "iopub.status.idle": "2021-07-11T22:08:56.857843Z",
          "shell.execute_reply": "2021-07-11T22:08:56.857229Z",
          "shell.execute_reply.started": "2021-07-11T22:07:34.465713Z"
        },
        "papermill": {
          "duration": 0.073188,
          "end_time": "2021-07-11T22:08:56.857979",
          "exception": false,
          "start_time": "2021-07-11T22:08:56.784791",
          "status": "completed"
        },
        "tags": [],
        "id": "67KOH-iSMxKv"
      },
      "source": [
        "knn = KNeighborsClassifier(n_neighbors=1)\n",
        "\n",
        "knn.fit(X_train,y_train)\n",
        "pred = knn.predict(X_test)\n",
        "\n",
        "print('WITH K=1')\n",
        "print('\\n')\n",
        "print(confusion_matrix(y_test,pred))\n",
        "print('\\n')\n",
        "print(classification_report(y_test,pred))"
      ],
      "execution_count": null,
      "outputs": []
    },
    {
      "cell_type": "code",
      "metadata": {
        "execution": {
          "iopub.execute_input": "2021-07-11T22:08:56.942843Z",
          "iopub.status.busy": "2021-07-11T22:08:56.941758Z",
          "iopub.status.idle": "2021-07-11T22:08:56.971985Z",
          "shell.execute_reply": "2021-07-11T22:08:56.972490Z",
          "shell.execute_reply.started": "2021-07-11T22:07:54.659603Z"
        },
        "papermill": {
          "duration": 0.076759,
          "end_time": "2021-07-11T22:08:56.972676",
          "exception": false,
          "start_time": "2021-07-11T22:08:56.895917",
          "status": "completed"
        },
        "tags": [],
        "id": "DG00J4-qMxKw"
      },
      "source": [
        "knn = KNeighborsClassifier(n_neighbors=8) # Change k as needed\n",
        "\n",
        "knn.fit(X_train,y_train)\n",
        "pred = knn.predict(X_test)\n",
        "\n",
        "print('WITH K=8')  # Label k as needed\n",
        "print('\\n')\n",
        "print(confusion_matrix(y_test,pred))\n",
        "print('\\n')\n",
        "print(classification_report(y_test,pred))"
      ],
      "execution_count": null,
      "outputs": []
    },
    {
      "cell_type": "markdown",
      "metadata": {
        "papermill": {
          "duration": 0.036961,
          "end_time": "2021-07-11T22:08:57.047938",
          "exception": false,
          "start_time": "2021-07-11T22:08:57.010977",
          "status": "completed"
        },
        "tags": [],
        "id": "GMKObT53MxKw"
      },
      "source": [
        "## Submit Model Using Test Data"
      ]
    },
    {
      "cell_type": "code",
      "metadata": {
        "execution": {
          "iopub.execute_input": "2021-07-11T22:08:57.140248Z",
          "iopub.status.busy": "2021-07-11T22:08:57.139586Z",
          "iopub.status.idle": "2021-07-11T22:08:57.145030Z",
          "shell.execute_reply": "2021-07-11T22:08:57.144481Z",
          "shell.execute_reply.started": "2021-07-11T22:08:02.348818Z"
        },
        "papermill": {
          "duration": 0.059397,
          "end_time": "2021-07-11T22:08:57.145149",
          "exception": false,
          "start_time": "2021-07-11T22:08:57.085752",
          "status": "completed"
        },
        "tags": [],
        "id": "tfxTXOJGMxKw"
      },
      "source": [
        "test.head()"
      ],
      "execution_count": null,
      "outputs": []
    },
    {
      "cell_type": "code",
      "metadata": {
        "execution": {
          "iopub.execute_input": "2021-07-11T22:08:57.232564Z",
          "iopub.status.busy": "2021-07-11T22:08:57.231909Z",
          "iopub.status.idle": "2021-07-11T22:08:57.258691Z",
          "shell.execute_reply": "2021-07-11T22:08:57.259205Z",
          "shell.execute_reply.started": "2021-07-11T22:08:08.277921Z"
        },
        "papermill": {
          "duration": 0.076051,
          "end_time": "2021-07-11T22:08:57.259363",
          "exception": false,
          "start_time": "2021-07-11T22:08:57.183312",
          "status": "completed"
        },
        "tags": [],
        "id": "lo_48FfnMxKw"
      },
      "source": [
        "final_X = test.drop('PassengerId', axis=1)\n",
        "final_pred = knn.predict(final_X)"
      ],
      "execution_count": null,
      "outputs": []
    },
    {
      "cell_type": "code",
      "metadata": {
        "execution": {
          "iopub.execute_input": "2021-07-11T22:08:57.345116Z",
          "iopub.status.busy": "2021-07-11T22:08:57.344155Z",
          "iopub.status.idle": "2021-07-11T22:08:57.732630Z",
          "shell.execute_reply": "2021-07-11T22:08:57.733207Z",
          "shell.execute_reply.started": "2021-07-11T22:08:10.440237Z"
        },
        "papermill": {
          "duration": 0.435973,
          "end_time": "2021-07-11T22:08:57.733378",
          "exception": false,
          "start_time": "2021-07-11T22:08:57.297405",
          "status": "completed"
        },
        "tags": [],
        "id": "4JwS8nnXMxKw"
      },
      "source": [
        "final = pd.DataFrame()\n",
        "final['PassengerId'] = test['PassengerId']\n",
        "final['Survived'] = final_pred\n",
        "final.to_csv('pred.csv', index=False)"
      ],
      "execution_count": null,
      "outputs": []
    }
  ]
}